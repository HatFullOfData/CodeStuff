{
 "cells": [
  {
   "cell_type": "markdown",
   "id": "d004eaad-bbbe-46e8-8782-d66d5dd31e00",
   "metadata": {
    "microsoft": {
     "language": "python",
     "language_group": "synapse_pyspark"
    },
    "nteract": {
     "transient": {
      "deleting": false
     }
    }
   },
   "source": [
    "# SharePoint Excel File\n",
    "\n",
    "Goal of this notebook is to get data from an Excel file stored in SharePoint. The file, products.xlsx, is stored in the Documents library. The table of data is on the Products sheet and starts in A1.\n",
    "\n",
    "A service principal has been set up with Sites Selected permission for the site. The secret for that service principal is stored in Azure Key Vault.\n",
    "\n",
    "## Steps\n",
    "1. Get Secret from Azure Key Vault\n",
    "1. Get Access token from Microsoft Graph\n",
    "1. Get Site_ID and Drive_ID\n",
    "1. Get download url for file and download\n",
    "1. Extract data using pandas\n",
    "\n"
   ]
  },
  {
   "cell_type": "markdown",
   "id": "0708f2da-5005-4b85-89dd-48e5325f6092",
   "metadata": {
    "microsoft": {
     "language": "python",
     "language_group": "synapse_pyspark"
    },
    "nteract": {
     "transient": {
      "deleting": false
     }
    }
   },
   "source": [
    "### Prep - Import Libraries"
   ]
  },
  {
   "cell_type": "code",
   "execution_count": 1,
   "id": "830be8de-d0bf-4366-bc8e-b2a17c048bab",
   "metadata": {
    "microsoft": {
     "language": "python",
     "language_group": "synapse_pyspark"
    }
   },
   "outputs": [
    {
     "data": {
      "application/vnd.livy.statement-meta+json": {
       "execution_finish_time": "2025-08-26T11:10:53.1165863Z",
       "execution_start_time": "2025-08-26T11:10:49.9939496Z",
       "livy_statement_state": "available",
       "normalized_state": "finished",
       "parent_msg_id": "b10ebf7a-e55a-4bbc-aa7d-b23dc62a33e8",
       "queued_time": "2025-08-26T11:10:40.0433496Z",
       "session_id": "c38e1cdd-4b29-41d1-9ae6-8e4f49a954db",
       "session_start_time": "2025-08-26T11:10:40.0442094Z",
       "spark_pool": null,
       "state": "finished",
       "statement_id": 3,
       "statement_ids": [
        3
       ]
      },
      "text/plain": [
       "StatementMeta(, c38e1cdd-4b29-41d1-9ae6-8e4f49a954db, 3, Finished, Available, Finished)"
      ]
     },
     "metadata": {},
     "output_type": "display_data"
    }
   ],
   "source": [
    "import requests\n",
    "from pandas import read_excel\n",
    "from pyspark.sql.functions import col\n",
    "from io import BytesIO"
   ]
  },
  {
   "cell_type": "markdown",
   "id": "eced6dab-74eb-4241-bd80-790a164f2d26",
   "metadata": {
    "microsoft": {
     "language": "python",
     "language_group": "synapse_pyspark"
    },
    "nteract": {
     "transient": {
      "deleting": false
     }
    }
   },
   "source": [
    "### Prep - Variables / Parameters"
   ]
  },
  {
   "cell_type": "code",
   "execution_count": 2,
   "id": "501c2d8d-a87e-47f6-beed-671e16e11b03",
   "metadata": {
    "microsoft": {
     "language": "python",
     "language_group": "synapse_pyspark"
    },
    "tags": [
     "parameters"
    ]
   },
   "outputs": [
    {
     "data": {
      "application/vnd.livy.statement-meta+json": {
       "execution_finish_time": "2025-08-26T11:10:53.3853739Z",
       "execution_start_time": "2025-08-26T11:10:53.1184199Z",
       "livy_statement_state": "available",
       "normalized_state": "finished",
       "parent_msg_id": "364e126b-62fd-413c-be21-fa82e1298764",
       "queued_time": "2025-08-26T11:10:40.0451945Z",
       "session_id": "c38e1cdd-4b29-41d1-9ae6-8e4f49a954db",
       "session_start_time": null,
       "spark_pool": null,
       "state": "finished",
       "statement_id": 4,
       "statement_ids": [
        4
       ]
      },
      "text/plain": [
       "StatementMeta(, c38e1cdd-4b29-41d1-9ae6-8e4f49a954db, 4, Finished, Available, Finished)"
      ]
     },
     "metadata": {},
     "output_type": "display_data"
    }
   ],
   "source": [
    "sharepoint_domain = \"YOURDOMAIN.sharepoint.com\"\n",
    "site_name = \"SITE\"\n",
    "library_name = \"LIBRARY\"\n",
    "file_name = \"FILE.xlsx\"\n",
    "sheet_name = \"SHEET\""
   ]
  },
  {
   "cell_type": "markdown",
   "id": "4868cae9-653f-4449-a439-00510c386f2c",
   "metadata": {
    "microsoft": {
     "language": "python",
     "language_group": "synapse_pyspark"
    },
    "nteract": {
     "transient": {
      "deleting": false
     }
    }
   },
   "source": [
    "### Step 1 - Get Secret from Azure Key Vault"
   ]
  },
  {
   "cell_type": "code",
   "execution_count": null,
   "id": "7515d378-8780-4ba9-bd8f-6bcec6bde1a6",
   "metadata": {
    "microsoft": {
     "language": "python",
     "language_group": "synapse_pyspark"
    }
   },
   "outputs": [],
   "source": [
    "# Authentication details\n",
    "tenant_id = \"TENANT ID\"\n",
    "client_id = \"CLIENT ID\"\n",
    "azure_key_vault_name = \"VAULT\"\n",
    "azure_key_vault_secret_name = \"SECRET\""
   ]
  },
  {
   "cell_type": "code",
   "execution_count": null,
   "id": "6a4a379f-cf10-4578-92ba-c4b2110db59a",
   "metadata": {
    "microsoft": {
     "language": "python",
     "language_group": "synapse_pyspark"
    }
   },
   "outputs": [],
   "source": [
    "# Get secret from Key Vault\n",
    "azure_key_vault_url = f\"https://{azure_key_vault_name}.vault.azure.net/\" \n",
    "client_secret = notebookutils.credentials.getSecret(azure_key_vault_url,azure_key_vault_secret_name)"
   ]
  },
  {
   "cell_type": "markdown",
   "id": "c0fba146-bb9f-44cc-ae36-ff9855a1e0b7",
   "metadata": {
    "microsoft": {
     "language": "python",
     "language_group": "synapse_pyspark"
    },
    "nteract": {
     "transient": {
      "deleting": false
     }
    }
   },
   "source": [
    "### Step 2 - Get Access Token from Microsoft Graph"
   ]
  },
  {
   "cell_type": "code",
   "execution_count": null,
   "id": "5971cda1-66f5-4700-a6fa-b47e5f67d09b",
   "metadata": {
    "jupyter": {
     "outputs_hidden": false,
     "source_hidden": false
    },
    "microsoft": {
     "language": "python",
     "language_group": "synapse_pyspark"
    },
    "nteract": {
     "transient": {
      "deleting": false
     }
    }
   },
   "outputs": [],
   "source": [
    "token_url = f\"https://login.microsoftonline.com/{tenant_id}/oauth2/v2.0/token\"\n",
    "token_data = {\n",
    "    \"grant_type\": \"client_credentials\",\n",
    "    \"client_id\": client_id,\n",
    "    \"client_secret\": client_secret,\n",
    "    \"scope\": \"https://graph.microsoft.com/.default\"\n",
    "}\n",
    "response = requests.post(token_url, data=token_data)\n",
    "response.raise_for_status()  # Raise error if request fails\n",
    "access_token = response.json().get(\"access_token\")\n",
    "\n",
    "# Print the result\n",
    "print(\" Access Token Received:\", access_token[:50], \"...\")\n",
    "\n",
    "headers = {\"Authorization\": f\"Bearer {access_token}\"}"
   ]
  },
  {
   "cell_type": "markdown",
   "id": "c907b0cb-acc9-4d19-9ba1-ba7b267f68f9",
   "metadata": {
    "microsoft": {
     "language": "python",
     "language_group": "synapse_pyspark"
    },
    "nteract": {
     "transient": {
      "deleting": false
     }
    }
   },
   "source": [
    "### Step 3 - Get Site ID and Drive ID"
   ]
  },
  {
   "cell_type": "code",
   "execution_count": null,
   "id": "5562dd6b-70c1-4877-942a-1aa74c7820b9",
   "metadata": {
    "jupyter": {
     "outputs_hidden": false,
     "source_hidden": false
    },
    "microsoft": {
     "language": "python",
     "language_group": "synapse_pyspark"
    },
    "nteract": {
     "transient": {
      "deleting": false
     }
    }
   },
   "outputs": [],
   "source": [
    "site_id_url = f\"https://graph.microsoft.com/v1.0/sites/{sharepoint_domain}:/sites/{site_name}\"\n",
    "print(\"Site ID URL:\",site_id_url)\n",
    "response = requests.get(site_id_url, headers=headers)\n",
    "response.raise_for_status()  # Raise error if request fails\n",
    "display(response.json())\n",
    "\n",
    "site_id=response.json()['id']\n",
    "print(\"Site ID:\",site_id[:50], \"...\")"
   ]
  },
  {
   "cell_type": "code",
   "execution_count": null,
   "id": "14402efc-659d-49ff-b798-1be413889e85",
   "metadata": {
    "collapsed": false,
    "microsoft": {
     "language": "python",
     "language_group": "synapse_pyspark"
    }
   },
   "outputs": [],
   "source": [
    "drive_id_url = f\"https://graph.microsoft.com/v1.0/sites/{site_id}/drives?$select=name,id\"\n",
    "response = requests.get(drive_id_url, headers=headers)\n",
    "response.raise_for_status()  # Raise error if request fails\n",
    "# Convert response json into a dataframe\n",
    "df_drives = spark.createDataFrame(response.json()['value'])\n",
    "display(df_drives)\n",
    "# Filter the dataframe to the specified library and get the id\n",
    "drive_id = df_drives.filter(col(\"name\")== library_name).collect()[0][\"id\"]\n",
    "print(\"Drive ID:\",drive_id[:25], \"...\")"
   ]
  },
  {
   "cell_type": "markdown",
   "id": "9fad9be8-f202-4bed-8366-d139535c169f",
   "metadata": {
    "microsoft": {
     "language": "python",
     "language_group": "synapse_pyspark"
    },
    "nteract": {
     "transient": {
      "deleting": false
     }
    }
   },
   "source": [
    "### Step 4 - Get File content"
   ]
  },
  {
   "cell_type": "code",
   "execution_count": null,
   "id": "b66159ff-2097-41c8-8daf-91c360639591",
   "metadata": {
    "jupyter": {
     "outputs_hidden": false,
     "source_hidden": false
    },
    "microsoft": {
     "language": "python",
     "language_group": "synapse_pyspark"
    },
    "nteract": {
     "transient": {
      "deleting": false
     }
    }
   },
   "outputs": [],
   "source": [
    "# Step 3: Retrieve the File Content from SharePoint using Graph API\n",
    "file_url = f\"https://graph.microsoft.com/v1.0/sites/{site_id}/drives/{drive_id}/root:/{file_name}:/content\"\n",
    "print(\"File URL:\",file_url[:75], \"...\")\n",
    "response = requests.get(file_url, headers=headers)\n",
    "response.raise_for_status()  # Raise error if request fails\n",
    "display(response)\n",
    "#"
   ]
  },
  {
   "cell_type": "markdown",
   "id": "d74ea1f0-9198-4438-a149-7806f960e84f",
   "metadata": {
    "nteract": {
     "transient": {
      "deleting": false
     }
    }
   },
   "source": [
    "### Step 5 - Extract table using Pandas"
   ]
  },
  {
   "cell_type": "code",
   "execution_count": null,
   "id": "4f3e3b54-7e11-4e0c-a2a0-daa397f3bc64",
   "metadata": {
    "collapsed": false,
    "jupyter": {
     "outputs_hidden": false,
     "source_hidden": false
    },
    "microsoft": {
     "language": "python",
     "language_group": "synapse_pyspark"
    },
    "nteract": {
     "transient": {
      "deleting": false
     }
    }
   },
   "outputs": [],
   "source": [
    "# Convert response\n",
    "xls = BytesIO(response.content)\n",
    "\n",
    "# Get data from sheet\n",
    "df = read_excel(xls, sheet_name=sheet_name) \n",
    "display(df)"
   ]
  }
 ],
 "metadata": {
  "dependencies": {},
  "kernel_info": {
   "name": "synapse_pyspark"
  },
  "kernelspec": {
   "display_name": "synapse_pyspark",
   "name": "synapse_pyspark"
  },
  "language_info": {
   "name": "python"
  },
  "microsoft": {
   "language": "python",
   "language_group": "synapse_pyspark",
   "ms_spell_check": {
    "ms_spell_check_language": "en"
   }
  },
  "nteract": {
   "version": "nteract-front-end@1.0.0"
  },
  "spark_compute": {
   "compute_id": "/trident/default",
   "session_options": {
    "conf": {
     "spark.synapse.nbs.session.timeout": "1200000"
    }
   }
  },
  "synapse_widget": {
   "state": {},
   "version": "0.1"
  }
 },
 "nbformat": 4,
 "nbformat_minor": 5
}
